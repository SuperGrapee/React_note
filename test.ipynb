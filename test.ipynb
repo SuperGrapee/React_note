{
 "cells": [
  {
   "cell_type": "code",
   "execution_count": 16,
   "metadata": {},
   "outputs": [
    {
     "name": "stdout",
     "output_type": "stream",
     "text": [
      "[(-1, [(1, 9)]), (0, [(0, 3), (2, 15)]), (1, [(1, 20)]), (2, [(2, 7)])]\n",
      "[(1, 9)]\n",
      "[(0, 3), (2, 15)]\n",
      "[(1, 20)]\n",
      "[(2, 7)]\n"
     ]
    }
   ],
   "source": [
    "from collections import defaultdict\n",
    "groups = defaultdict(list)\n",
    "groups[-1].append((1, 9))\n",
    "groups[0].append((0, 3))\n",
    "groups[0].append((2, 15))\n",
    "groups[1].append((1, 20))\n",
    "groups[2].append((2, 7))\n",
    "print(sorted(groups.items()))\n",
    "for _, g in sorted(groups.items()):\n",
    "    g.sort()"
   ]
  }
 ],
 "metadata": {
  "kernelspec": {
   "display_name": "pytorch",
   "language": "python",
   "name": "python3"
  },
  "language_info": {
   "codemirror_mode": {
    "name": "ipython",
    "version": 3
   },
   "file_extension": ".py",
   "mimetype": "text/x-python",
   "name": "python",
   "nbconvert_exporter": "python",
   "pygments_lexer": "ipython3",
   "version": "3.11.8"
  }
 },
 "nbformat": 4,
 "nbformat_minor": 2
}
